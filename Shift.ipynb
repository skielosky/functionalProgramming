{
 "cells": [
  {
   "cell_type": "code",
   "execution_count": 1,
   "metadata": {
    "collapsed": false
   },
   "outputs": [
    {
     "data": {
      "text/plain": [
       "\u001b[36memployees\u001b[0m: \u001b[32mList\u001b[0m[\u001b[32mString\u001b[0m] = \u001b[33mList\u001b[0m(\n",
       "  \u001b[32m\"neal\"\u001b[0m,\n",
       "  \u001b[32m\"s\"\u001b[0m,\n",
       "  \u001b[32m\"stu\"\u001b[0m,\n",
       "  \u001b[32m\"j\"\u001b[0m,\n",
       "  \u001b[32m\"rich\"\u001b[0m,\n",
       "  \u001b[32m\"bob\"\u001b[0m,\n",
       "  \u001b[32m\"aiden\"\u001b[0m,\n",
       "  \u001b[32m\"j\"\u001b[0m,\n",
       "  \u001b[32m\"ethan\"\u001b[0m,\n",
       "  \u001b[32m\"liam\"\u001b[0m,\n",
       "  \u001b[32m\"mason\"\u001b[0m,\n",
       "  \u001b[32m\"noah\"\u001b[0m,\n",
       "  \u001b[32m\"lucas\"\u001b[0m,\n",
       "  \u001b[32m\"jacob\"\u001b[0m,\n",
       "  \u001b[32m\"jayden\"\u001b[0m,\n",
       "  \u001b[32m\"jack\"\u001b[0m\n",
       ")\n",
       "\u001b[36mresult\u001b[0m: \u001b[32mString\u001b[0m = \u001b[32m\"Neal,Stu,Rich,Bob,Aiden,Ethan,Liam,Mason,Noah,Lucas,Jacob,Jayden,Jack\"\u001b[0m"
      ]
     },
     "metadata": {},
     "output_type": "display_data"
    }
   ],
   "source": [
    "\n",
    "val employees = List(\"neal\", \"s\", \"stu\", \"j\", \"rich\", \"bob\", \"aiden\", \"j\", \"ethan\", \"liam\", \"mason\", \"noah\", \"lucas\", \"jacob\", \"jayden\", \"jack\")\n",
    "\n",
    "val result = employees\n",
    "        .filter(_.length() > 1)\n",
    "        .map(_.capitalize)\n",
    "        .reduce(_ + \",\" +  _)"
   ]
  },
  {
   "cell_type": "code",
   "execution_count": 5,
   "metadata": {
    "collapsed": false
   },
   "outputs": [
    {
     "data": {
      "text/plain": [
       "\u001b[36mnumbers\u001b[0m: \u001b[32mList\u001b[0m[\u001b[32mInt\u001b[0m] = \u001b[33mList\u001b[0m(\u001b[32m1\u001b[0m, \u001b[32m2\u001b[0m, \u001b[32m3\u001b[0m, \u001b[32m4\u001b[0m, \u001b[32m5\u001b[0m, \u001b[32m6\u001b[0m, \u001b[32m7\u001b[0m, \u001b[32m8\u001b[0m, \u001b[32m9\u001b[0m, \u001b[32m10\u001b[0m, \u001b[32m11\u001b[0m, \u001b[32m12\u001b[0m, \u001b[32m13\u001b[0m, \u001b[32m14\u001b[0m, \u001b[32m15\u001b[0m, \u001b[32m16\u001b[0m, \u001b[32m17\u001b[0m, \u001b[32m18\u001b[0m, \u001b[32m19\u001b[0m)\n",
       "\u001b[36mres4_1\u001b[0m: \u001b[32mList\u001b[0m[\u001b[32mInt\u001b[0m] = \u001b[33mList\u001b[0m(\u001b[32m3\u001b[0m, \u001b[32m6\u001b[0m, \u001b[32m9\u001b[0m, \u001b[32m12\u001b[0m, \u001b[32m15\u001b[0m, \u001b[32m18\u001b[0m)\n",
       "\u001b[36mres4_2\u001b[0m: \u001b[32mList\u001b[0m[\u001b[32mInt\u001b[0m] = \u001b[33mList\u001b[0m(\u001b[32m3\u001b[0m, \u001b[32m6\u001b[0m, \u001b[32m9\u001b[0m, \u001b[32m12\u001b[0m, \u001b[32m15\u001b[0m, \u001b[32m18\u001b[0m)"
      ]
     },
     "metadata": {},
     "output_type": "display_data"
    }
   ],
   "source": [
    "val numbers = List.range(1, 20)\n",
    "numbers filter (x => x % 3 == 0)\n",
    "numbers filter (_ % 3 == 0)"
   ]
  },
  {
   "cell_type": "code",
   "execution_count": 6,
   "metadata": {
    "collapsed": false
   },
   "outputs": [
    {
     "data": {
      "text/plain": [
       "\u001b[36mwords\u001b[0m: \u001b[32mList\u001b[0m[\u001b[32mString\u001b[0m] = \u001b[33mList\u001b[0m(\u001b[32m\"the\"\u001b[0m, \u001b[32m\"quick\"\u001b[0m, \u001b[32m\"brown\"\u001b[0m, \u001b[32m\"fox\"\u001b[0m, \u001b[32m\"jumped\"\u001b[0m, \u001b[32m\"over\"\u001b[0m, \u001b[32m\"the\"\u001b[0m, \u001b[32m\"lazy\"\u001b[0m, \u001b[32m\"dog\"\u001b[0m)\n",
       "\u001b[36mres5_1\u001b[0m: \u001b[32mList\u001b[0m[\u001b[32mString\u001b[0m] = \u001b[33mList\u001b[0m(\u001b[32m\"the\"\u001b[0m, \u001b[32m\"fox\"\u001b[0m, \u001b[32m\"the\"\u001b[0m, \u001b[32m\"dog\"\u001b[0m)"
      ]
     },
     "metadata": {},
     "output_type": "display_data"
    }
   ],
   "source": [
    "val words = List(\"the\", \"quick\", \"brown\", \"fox\", \"jumped\", \"over\", \"the\", \"lazy\", \"dog\")\n",
    "\n",
    "words filter (_.length == 3)"
   ]
  },
  {
   "cell_type": "code",
   "execution_count": 7,
   "metadata": {
    "collapsed": false
   },
   "outputs": [
    {
     "data": {
      "text/plain": [
       "\u001b[36mres6\u001b[0m: \u001b[32mInt\u001b[0m = \u001b[32m45\u001b[0m"
      ]
     },
     "metadata": {},
     "output_type": "display_data"
    }
   ],
   "source": [
    "List.range(1, 10) reduceLeft((a, b) => a + b)"
   ]
  },
  {
   "cell_type": "code",
   "execution_count": 8,
   "metadata": {
    "collapsed": false
   },
   "outputs": [
    {
     "data": {
      "text/plain": [
       "\u001b[36mname\u001b[0m: \u001b[32mString\u001b[0m = \u001b[32m\"Ezequiel Aguilar\"\u001b[0m\n",
       "\u001b[36mnames\u001b[0m: \u001b[32mArray\u001b[0m[\u001b[32mString\u001b[0m] = \u001b[33mArray\u001b[0m(\u001b[32m\"Ezequiel\"\u001b[0m, \u001b[32m\"Aguilar\"\u001b[0m)\n",
       "\u001b[36minitial\u001b[0m: \u001b[32mString\u001b[0m = \u001b[32m\"E\"\u001b[0m\n",
       "\u001b[36mabbreviation\u001b[0m: \u001b[32mString\u001b[0m = \u001b[32m\"E.Aguilar\"\u001b[0m"
      ]
     },
     "metadata": {},
     "output_type": "display_data"
    }
   ],
   "source": [
    "var name = \"Ezequiel Aguilar\"\n",
    "var names = name.split(\" \")\n",
    "var initial = names(0).take(1)\n",
    "var abbreviation = initial + \".\" + names(1)"
   ]
  },
  {
   "cell_type": "code",
   "execution_count": 9,
   "metadata": {
    "collapsed": false
   },
   "outputs": [
    {
     "name": "stdout",
     "output_type": "stream",
     "text": [
      "1\n"
     ]
    },
    {
     "data": {
      "text/plain": []
     },
     "metadata": {},
     "output_type": "display_data"
    }
   ],
   "source": [
    "println(3/2)"
   ]
  },
  {
   "cell_type": "code",
   "execution_count": null,
   "metadata": {
    "collapsed": true
   },
   "outputs": [],
   "source": []
  }
 ],
 "metadata": {
  "kernelspec": {
   "display_name": "Scala 2.11",
   "language": "scala211",
   "name": "scala211"
  },
  "language_info": {
   "codemirror_mode": "text/x-scala",
   "file_extension": ".scala",
   "mimetype": "text/x-scala",
   "name": "scala211",
   "pygments_lexer": "scala",
   "version": "2.11.8"
  }
 },
 "nbformat": 4,
 "nbformat_minor": 1
}

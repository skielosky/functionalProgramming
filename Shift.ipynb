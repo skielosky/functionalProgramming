{
 "cells": [
  {
   "cell_type": "code",
   "execution_count": 1,
   "metadata": {
    "collapsed": false
   },
   "outputs": [
    {
     "data": {
      "text/plain": [
       "\u001b[36memployees\u001b[0m: \u001b[32mList\u001b[0m[\u001b[32mString\u001b[0m] = \u001b[33mList\u001b[0m(\n",
       "  \u001b[32m\"neal\"\u001b[0m,\n",
       "  \u001b[32m\"s\"\u001b[0m,\n",
       "  \u001b[32m\"stu\"\u001b[0m,\n",
       "  \u001b[32m\"j\"\u001b[0m,\n",
       "  \u001b[32m\"rich\"\u001b[0m,\n",
       "  \u001b[32m\"bob\"\u001b[0m,\n",
       "  \u001b[32m\"aiden\"\u001b[0m,\n",
       "  \u001b[32m\"j\"\u001b[0m,\n",
       "  \u001b[32m\"ethan\"\u001b[0m,\n",
       "  \u001b[32m\"liam\"\u001b[0m,\n",
       "  \u001b[32m\"mason\"\u001b[0m,\n",
       "  \u001b[32m\"noah\"\u001b[0m,\n",
       "  \u001b[32m\"lucas\"\u001b[0m,\n",
       "  \u001b[32m\"jacob\"\u001b[0m,\n",
       "  \u001b[32m\"jayden\"\u001b[0m,\n",
       "  \u001b[32m\"jack\"\u001b[0m\n",
       ")\n",
       "\u001b[36mresult\u001b[0m: \u001b[32mString\u001b[0m = \u001b[32m\"Neal,Stu,Rich,Bob,Aiden,Ethan,Liam,Mason,Noah,Lucas,Jacob,Jayden,Jack\"\u001b[0m"
      ]
     },
     "metadata": {},
     "output_type": "display_data"
    }
   ],
   "source": [
    "val employees = List(\"neal\", \"s\", \"stu\", \"j\", \"rich\", \"bob\", \"aiden\", \"j\", \"ethan\", \"liam\", \"mason\", \"noah\", \"lucas\", \"jacob\", \"jayden\", \"jack\")\n",
    "val result = employees\n",
    "        .filter(_.length() > 1)\n",
    "        .map(_.capitalize)\n",
    "        .reduce(_ + \",\" +  _)"
   ]
  },
  {
   "cell_type": "code",
   "execution_count": null,
   "metadata": {
    "collapsed": true
   },
   "outputs": [],
   "source": []
  }
 ],
 "metadata": {
  "kernelspec": {
   "display_name": "Scala 2.11",
   "language": "scala211",
   "name": "scala211"
  },
  "language_info": {
   "codemirror_mode": "text/x-scala",
   "file_extension": ".scala",
   "mimetype": "text/x-scala",
   "name": "scala211",
   "pygments_lexer": "scala",
   "version": "2.11.8"
  }
 },
 "nbformat": 4,
 "nbformat_minor": 1
}
